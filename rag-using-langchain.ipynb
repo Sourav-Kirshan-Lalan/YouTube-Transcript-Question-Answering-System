{
 "cells": [
  {
   "cell_type": "code",
   "execution_count": null,
   "metadata": {
    "_cell_guid": "b1076dfc-b9ad-4769-8c92-a6c4dae69d19",
    "_uuid": "8f2839f25d086af736a60e9eeb907d3b93b6e0e5",
    "execution": {
     "iopub.execute_input": "2025-08-22T17:05:49.534876Z",
     "iopub.status.busy": "2025-08-22T17:05:49.534619Z",
     "iopub.status.idle": "2025-08-22T17:05:49.543853Z",
     "shell.execute_reply": "2025-08-22T17:05:49.542711Z",
     "shell.execute_reply.started": "2025-08-22T17:05:49.534854Z"
    },
    "trusted": true
   },
   "outputs": [],
   "source": [
    "import os\n",
    "\n",
    "# Set environment variables\n",
    "os.environ[\"AZURE_OPENAI_API_KEY\"] = \"\"\n",
    "os.environ[\"AZURE_OPENAI_ENDPOINT\"] = \"\"\n"
   ]
  },
  {
   "cell_type": "code",
   "execution_count": 2,
   "metadata": {
    "execution": {
     "iopub.execute_input": "2025-08-22T17:05:49.546074Z",
     "iopub.status.busy": "2025-08-22T17:05:49.545718Z",
     "iopub.status.idle": "2025-08-22T17:06:02.529228Z",
     "shell.execute_reply": "2025-08-22T17:06:02.528396Z",
     "shell.execute_reply.started": "2025-08-22T17:05:49.546045Z"
    },
    "trusted": true
   },
   "outputs": [
    {
     "name": "stdout",
     "output_type": "stream",
     "text": [
      "\u001b[2K   \u001b[90m━━━━━━━━━━━━━━━━━━━━━━━━━━━━━━━━━━━━━━━━\u001b[0m \u001b[32m485.0/485.0 kB\u001b[0m \u001b[31m19.7 MB/s\u001b[0m eta \u001b[36m0:00:00\u001b[0m\n",
      "\u001b[2K   \u001b[90m━━━━━━━━━━━━━━━━━━━━━━━━━━━━━━━━━━━━━━━━\u001b[0m \u001b[32m2.5/2.5 MB\u001b[0m \u001b[31m49.0 MB/s\u001b[0m eta \u001b[36m0:00:00\u001b[0m00:01\u001b[0m\n",
      "\u001b[2K   \u001b[90m━━━━━━━━━━━━━━━━━━━━━━━━━━━━━━━━━━━━━━━━\u001b[0m \u001b[32m74.5/74.5 kB\u001b[0m \u001b[31m4.4 MB/s\u001b[0m eta \u001b[36m0:00:00\u001b[0m\n",
      "\u001b[2K   \u001b[90m━━━━━━━━━━━━━━━━━━━━━━━━━━━━━━━━━━━━━━━━\u001b[0m \u001b[32m31.4/31.4 MB\u001b[0m \u001b[31m58.6 MB/s\u001b[0m eta \u001b[36m0:00:00\u001b[0m:00:01\u001b[0m00:01\u001b[0m\n",
      "\u001b[2K   \u001b[90m━━━━━━━━━━━━━━━━━━━━━━━━━━━━━━━━━━━━━━━━\u001b[0m \u001b[32m443.5/443.5 kB\u001b[0m \u001b[31m17.8 MB/s\u001b[0m eta \u001b[36m0:00:00\u001b[0m\n",
      "\u001b[2K   \u001b[90m━━━━━━━━━━━━━━━━━━━━━━━━━━━━━━━━━━━━━━━━\u001b[0m \u001b[32m810.8/810.8 kB\u001b[0m \u001b[31m37.6 MB/s\u001b[0m eta \u001b[36m0:00:00\u001b[0m\n",
      "\u001b[2K   \u001b[90m━━━━━━━━━━━━━━━━━━━━━━━━━━━━━━━━━━━━━━━━\u001b[0m \u001b[32m45.2/45.2 kB\u001b[0m \u001b[31m2.3 MB/s\u001b[0m eta \u001b[36m0:00:00\u001b[0m\n",
      "\u001b[?25h"
     ]
    }
   ],
   "source": [
    "!pip install -q  youtube-transcript-api langchain-community langchain-openai \\\n",
    "               faiss-cpu tiktoken python-dotenv"
   ]
  },
  {
   "cell_type": "code",
   "execution_count": 3,
   "metadata": {
    "execution": {
     "iopub.execute_input": "2025-08-22T16:52:38.930838Z",
     "iopub.status.busy": "2025-08-22T16:52:38.930579Z",
     "iopub.status.idle": "2025-08-22T16:52:43.353133Z",
     "shell.execute_reply": "2025-08-22T16:52:43.352074Z",
     "shell.execute_reply.started": "2025-08-22T16:52:38.930810Z"
    },
    "trusted": true
   },
   "outputs": [
    {
     "name": "stdout",
     "output_type": "stream",
     "text": [
      "Collecting youtube-transcript-api==0.6.3\n",
      "  Downloading youtube_transcript_api-0.6.3-py3-none-any.whl.metadata (17 kB)\n",
      "Requirement already satisfied: defusedxml<0.8.0,>=0.7.1 in /usr/local/lib/python3.11/dist-packages (from youtube-transcript-api==0.6.3) (0.7.1)\n",
      "Requirement already satisfied: requests in /usr/local/lib/python3.11/dist-packages (from youtube-transcript-api==0.6.3) (2.32.4)\n",
      "Requirement already satisfied: charset_normalizer<4,>=2 in /usr/local/lib/python3.11/dist-packages (from requests->youtube-transcript-api==0.6.3) (3.4.2)\n",
      "Requirement already satisfied: idna<4,>=2.5 in /usr/local/lib/python3.11/dist-packages (from requests->youtube-transcript-api==0.6.3) (3.10)\n",
      "Requirement already satisfied: urllib3<3,>=1.21.1 in /usr/local/lib/python3.11/dist-packages (from requests->youtube-transcript-api==0.6.3) (2.5.0)\n",
      "Requirement already satisfied: certifi>=2017.4.17 in /usr/local/lib/python3.11/dist-packages (from requests->youtube-transcript-api==0.6.3) (2025.6.15)\n",
      "Downloading youtube_transcript_api-0.6.3-py3-none-any.whl (622 kB)\n",
      "\u001b[2K   \u001b[90m━━━━━━━━━━━━━━━━━━━━━━━━━━━━━━━━━━━━━━━━\u001b[0m \u001b[32m622.3/622.3 kB\u001b[0m \u001b[31m8.6 MB/s\u001b[0m eta \u001b[36m0:00:00\u001b[0m:00:01\u001b[0m0:01\u001b[0m\n",
      "\u001b[?25hInstalling collected packages: youtube-transcript-api\n",
      "Successfully installed youtube-transcript-api-0.6.3\n",
      "Note: you may need to restart the kernel to use updated packages.\n"
     ]
    }
   ],
   "source": [
    "pip install youtube-transcript-api==0.6.3"
   ]
  },
  {
   "cell_type": "code",
   "execution_count": 3,
   "metadata": {
    "execution": {
     "iopub.execute_input": "2025-08-22T17:06:02.530400Z",
     "iopub.status.busy": "2025-08-22T17:06:02.530132Z",
     "iopub.status.idle": "2025-08-22T17:06:04.566108Z",
     "shell.execute_reply": "2025-08-22T17:06:04.565397Z",
     "shell.execute_reply.started": "2025-08-22T17:06:02.530373Z"
    },
    "trusted": true
   },
   "outputs": [],
   "source": [
    "from youtube_transcript_api import YouTubeTranscriptApi, TranscriptsDisabled\n",
    "from langchain.text_splitter import RecursiveCharacterTextSplitter\n",
    "from langchain_openai import AzureOpenAIEmbeddings, AzureChatOpenAI\n",
    "from langchain_community.vectorstores import FAISS\n",
    "from langchain_core.prompts import PromptTemplate"
   ]
  },
  {
   "cell_type": "markdown",
   "metadata": {},
   "source": [
    "# Step 1a - Indexing (Document Ingestion)"
   ]
  },
  {
   "cell_type": "code",
   "execution_count": 11,
   "metadata": {
    "execution": {
     "iopub.execute_input": "2025-08-22T17:11:00.828899Z",
     "iopub.status.busy": "2025-08-22T17:11:00.828041Z",
     "iopub.status.idle": "2025-08-22T17:11:01.885414Z",
     "shell.execute_reply": "2025-08-22T17:11:01.884670Z",
     "shell.execute_reply.started": "2025-08-22T17:11:00.828868Z"
    },
    "trusted": true
   },
   "outputs": [],
   "source": [
    "video_id = \"Gfr50f6ZBvo\" # only the ID, not full URL\n",
    "try:\n",
    "    # If you don’t care which language, this returns the “best” one\n",
    "    transcript_list = YouTubeTranscriptApi().fetch(video_id, languages=[\"en\"])\n",
    "\n",
    "    # # Flatten it to plain text\n",
    "    transcript = \" \".join([snippet.text for snippet in transcript_list])\n",
    "    # print(transcript)\n",
    "\n",
    "except TranscriptsDisabled:\n",
    "    print(\"No captions available for this video.\")\n",
    "\n"
   ]
  },
  {
   "cell_type": "markdown",
   "metadata": {},
   "source": [
    "# Step 1b - Indexing (Text Splitting)"
   ]
  },
  {
   "cell_type": "code",
   "execution_count": 12,
   "metadata": {
    "execution": {
     "iopub.execute_input": "2025-08-22T17:12:02.864489Z",
     "iopub.status.busy": "2025-08-22T17:12:02.864190Z",
     "iopub.status.idle": "2025-08-22T17:12:02.900296Z",
     "shell.execute_reply": "2025-08-22T17:12:02.899285Z",
     "shell.execute_reply.started": "2025-08-22T17:12:02.864469Z"
    },
    "trusted": true
   },
   "outputs": [],
   "source": [
    "splitter = RecursiveCharacterTextSplitter(chunk_size=1000, chunk_overlap=200)\n",
    "chunks = splitter.create_documents([transcript])"
   ]
  },
  {
   "cell_type": "code",
   "execution_count": 13,
   "metadata": {
    "execution": {
     "iopub.execute_input": "2025-08-22T17:12:08.017255Z",
     "iopub.status.busy": "2025-08-22T17:12:08.016992Z",
     "iopub.status.idle": "2025-08-22T17:12:08.022981Z",
     "shell.execute_reply": "2025-08-22T17:12:08.022157Z",
     "shell.execute_reply.started": "2025-08-22T17:12:08.017239Z"
    },
    "trusted": true
   },
   "outputs": [
    {
     "data": {
      "text/plain": [
       "168"
      ]
     },
     "execution_count": 13,
     "metadata": {},
     "output_type": "execute_result"
    }
   ],
   "source": [
    "len(chunks)"
   ]
  },
  {
   "cell_type": "code",
   "execution_count": 14,
   "metadata": {
    "execution": {
     "iopub.execute_input": "2025-08-22T17:13:09.672798Z",
     "iopub.status.busy": "2025-08-22T17:13:09.672529Z",
     "iopub.status.idle": "2025-08-22T17:13:09.678318Z",
     "shell.execute_reply": "2025-08-22T17:13:09.677597Z",
     "shell.execute_reply.started": "2025-08-22T17:13:09.672777Z"
    },
    "trusted": true
   },
   "outputs": [
    {
     "data": {
      "text/plain": [
       "Document(metadata={}, page_content=\"out our sponsors in the description and now dear friends here's demis hassabis let's start with a bit of a personal question am i an ai program you wrote to interview people until i get good enough to interview you well i'll be impressed if if you were i'd be impressed by myself if you were i don't think we're quite up to that yet but uh maybe you're from the future lex if you did would you tell me is that is that a good thing to tell a language model that's tasked with interviewing that it is in fact um ai maybe we're in a kind of meta turing test uh probably probably it would be a good idea not to tell you so it doesn't change your behavior right this is a kind of heisenberg uncertainty principle situation if i told you you behave differently yeah maybe that's what's happening with us of course this is a benchmark from the future where they replay 2022 as a year before ais were good enough yet and now we want to see is it going to pass exactly if i was such a program would you be\")"
      ]
     },
     "execution_count": 14,
     "metadata": {},
     "output_type": "execute_result"
    }
   ],
   "source": [
    "chunks[1]"
   ]
  },
  {
   "cell_type": "markdown",
   "metadata": {},
   "source": [
    "# Step 1c & 1d - Indexing (Embedding Generation and Storing in Vector Store)"
   ]
  },
  {
   "cell_type": "code",
   "execution_count": 15,
   "metadata": {
    "execution": {
     "iopub.execute_input": "2025-08-22T17:15:34.701959Z",
     "iopub.status.busy": "2025-08-22T17:15:34.701655Z",
     "iopub.status.idle": "2025-08-22T17:15:39.943338Z",
     "shell.execute_reply": "2025-08-22T17:15:39.942681Z",
     "shell.execute_reply.started": "2025-08-22T17:15:34.701937Z"
    },
    "trusted": true
   },
   "outputs": [],
   "source": [
    "embeddings = AzureOpenAIEmbeddings(model=\"text-embedding-ada-002\", api_version='2024-12-01-preview')\n",
    "vector_store = FAISS.from_documents(chunks, embeddings)"
   ]
  },
  {
   "cell_type": "code",
   "execution_count": 16,
   "metadata": {
    "execution": {
     "iopub.execute_input": "2025-08-22T17:15:50.696548Z",
     "iopub.status.busy": "2025-08-22T17:15:50.696251Z",
     "iopub.status.idle": "2025-08-22T17:15:50.705347Z",
     "shell.execute_reply": "2025-08-22T17:15:50.704522Z",
     "shell.execute_reply.started": "2025-08-22T17:15:50.696529Z"
    },
    "trusted": true
   },
   "outputs": [
    {
     "data": {
      "text/plain": [
       "{0: '2d8ae42c-0f0a-40f1-8019-6273311854d1',\n",
       " 1: '06cbaa13-28e7-43d5-bcc5-bd689af7d89e',\n",
       " 2: 'f046ed71-aabc-43ed-b239-61fde2ab23a2',\n",
       " 3: 'e8efc652-387d-4141-bb01-954cae9c82d0',\n",
       " 4: '9d6cfdbd-7f99-423b-bd63-988f6507c5be',\n",
       " 5: '1fba4a94-4d6e-4c45-87a9-228373d668d0',\n",
       " 6: '9b35219b-a491-4d5a-b708-b796b014b56b',\n",
       " 7: 'e86db18b-f92f-490e-a23e-dad51b9cada9',\n",
       " 8: 'f933187e-77d1-48c4-a57d-8e9522315251',\n",
       " 9: '9aef74b2-2dc0-4dda-876c-ed68b07da88d',\n",
       " 10: '1e071dea-8084-4792-975e-7ddd3ffe3e85',\n",
       " 11: 'c9b6d2aa-3bfd-44db-b133-87ab21c9e975',\n",
       " 12: '369c348e-9301-4710-bd4b-aeb2982ccdc1',\n",
       " 13: 'b7e8952c-57f6-4578-869d-e6752a1ca529',\n",
       " 14: '79c260d8-1e2a-44ef-8f6b-00def0d2de5b',\n",
       " 15: '174ee3a7-e585-43a5-9196-c76e0503c8be',\n",
       " 16: '359bae91-f881-4df9-a05e-9b6f20445ddb',\n",
       " 17: 'c87ac36d-d3a5-4871-9270-7bcc0af9dbba',\n",
       " 18: 'bb713fe7-323c-4b1d-8901-54dae46e1874',\n",
       " 19: '44fb6d50-3b2c-4771-aead-cc87049ae33e',\n",
       " 20: 'a43851cb-5b64-4ed5-b562-b77bc4642c04',\n",
       " 21: '5b3916c1-9948-4ec3-8e7d-d3c8f3d94d12',\n",
       " 22: 'cf0f91e5-43d8-405f-9e85-c88bb5426414',\n",
       " 23: '24632d22-2037-4172-ac8a-449e0b9ab9a5',\n",
       " 24: '1ff2b7e4-6959-4ac3-b48c-a9f53dc84912',\n",
       " 25: '8424ce7f-65af-445f-8d32-826feb50ac31',\n",
       " 26: '31686c0f-3d7d-4cf9-a482-ab627b96e4e9',\n",
       " 27: '49bb46e1-464b-4619-a45e-ae87261497c6',\n",
       " 28: '773df33f-bfa2-438e-a2b8-069832c85a41',\n",
       " 29: 'b00ed899-7a80-4f58-a810-be670abb13af',\n",
       " 30: 'd0a9774e-78a3-4e52-ac7e-f6f78f49d79f',\n",
       " 31: 'ec970912-353f-4cb7-b196-add9ccaf870b',\n",
       " 32: 'f51c393a-b9d1-4d98-b5d3-66dd0d319cd1',\n",
       " 33: '88fd2357-1888-4cb4-91fe-1dbbd0daa463',\n",
       " 34: '7d043a7b-4c69-4cd1-be44-dfb3efd2ee62',\n",
       " 35: '1bd9d1a9-83e0-43ba-a191-031348ff93b1',\n",
       " 36: '33a0afb0-30f8-4839-9994-bd1ba41c8a9c',\n",
       " 37: 'f528bd7e-08dd-4294-a57f-95d076b8c72b',\n",
       " 38: 'e89e43b7-4da5-4b29-a411-16abdbd1f788',\n",
       " 39: '1c6ef61b-a93c-4c97-83dc-5f66913f4941',\n",
       " 40: '6151fa4c-9008-4e31-9b6e-75b13e234a7b',\n",
       " 41: '9af114a0-aff6-44c7-a3d8-dd3c49d76c23',\n",
       " 42: 'e39c5203-bb27-499a-9875-a0dd7383802c',\n",
       " 43: '22cf7b9a-6278-45a0-97d3-8f0733b4b0f9',\n",
       " 44: 'b09ac4a2-962f-4bff-8828-ab35add9f621',\n",
       " 45: '43e780d9-b959-418a-9ef0-f9c47193ad54',\n",
       " 46: '79003124-0388-42fb-a1c6-530baaba10cd',\n",
       " 47: 'b65ed46d-9d4e-4c55-91d9-b0032cc14d88',\n",
       " 48: 'fbeca1ac-61a7-43fd-beb1-780f4cee36bc',\n",
       " 49: '832537f6-8977-4209-979f-1879779e38f1',\n",
       " 50: '49e450c2-65ab-4886-ae68-609906103091',\n",
       " 51: '2875ae2e-0d86-46e8-b4b0-cf8244919931',\n",
       " 52: 'f270b6eb-8203-4c38-a851-d48935177ca4',\n",
       " 53: 'd4504e5a-cd8d-4652-9312-22cb34a2b842',\n",
       " 54: 'e68e9939-24c2-4a1b-9412-edf6e61f22c1',\n",
       " 55: '5fcac53e-ff19-4c16-8324-9d96e586b359',\n",
       " 56: 'f2b1bbed-2d95-42d7-95fa-b5fdeb68cecd',\n",
       " 57: '00962422-4134-45fa-9e63-465a03a809fe',\n",
       " 58: 'a52d36f6-71d9-4dac-a2da-aa5cb6de8b3e',\n",
       " 59: '259a4e2c-c33a-469a-8a4c-76fc9d1c265e',\n",
       " 60: 'cf2a8b3a-ef5d-4a9c-bf57-e61d33670dfb',\n",
       " 61: 'bcb106f9-44bb-4765-a16e-e94db32ce574',\n",
       " 62: '06f9fe07-cf3d-428b-af57-52313129f901',\n",
       " 63: '2f5d4dca-bfd5-4366-b497-67a579fb9f26',\n",
       " 64: '3ab960bd-37de-4582-a0aa-2b0677568156',\n",
       " 65: '95f95705-be46-4fa2-963c-ae2b5f44a943',\n",
       " 66: '96e79c82-84dc-4d43-b106-e8dcc4a06633',\n",
       " 67: '7df455c4-6e9e-4e3b-b299-b5a57c7283a8',\n",
       " 68: '54f65a3e-44e3-41f7-bebd-19a007c747b5',\n",
       " 69: '0a4f6200-311a-4fe6-84e4-ff03e02a6b83',\n",
       " 70: '75cb46eb-ef8a-41d3-b18e-95dc22132491',\n",
       " 71: '908fd112-b2fe-4528-8c57-3a8dae039abf',\n",
       " 72: 'd73e2bcb-e964-455a-9435-045a9e926552',\n",
       " 73: 'b3ba18fa-043e-4bd3-a0c6-dfc753086b20',\n",
       " 74: '6222a155-493f-4bc7-82e6-d7fd5540e3a7',\n",
       " 75: 'a4748948-bf0d-499e-ad10-3b7c2ca982d3',\n",
       " 76: 'f72b21ba-420f-4dc9-9878-862ae413cc77',\n",
       " 77: '096011e9-3a9f-49f8-b8c8-532ece0f635e',\n",
       " 78: 'be6729ec-b195-41ee-bea2-c130b636d063',\n",
       " 79: 'a3233a91-f785-4b82-9722-772c034faa64',\n",
       " 80: '28250be2-0f8f-467d-9fea-91a348d342e3',\n",
       " 81: 'e882e0a2-099c-40ae-b50d-4e31de8fbe2f',\n",
       " 82: '051868c5-0078-4045-a503-b418f99da35a',\n",
       " 83: '74b3768a-0001-4fb3-8ed9-d7863c3aac9a',\n",
       " 84: 'f4a167cd-9d43-40fe-8d1f-34dcf14ea7ab',\n",
       " 85: '39c1ac42-4e00-4183-9e47-86f7a7a640ae',\n",
       " 86: 'a5bce211-a8fc-4d72-b585-ef5784db085d',\n",
       " 87: '49971c07-7af3-47be-9b80-ac20dfe13210',\n",
       " 88: 'ae354812-3b26-481c-8963-daca35b66b80',\n",
       " 89: 'b8b365e0-f721-4ed3-964d-f5632ba14174',\n",
       " 90: '62876ed2-f8b0-4e2b-b377-03a68835b446',\n",
       " 91: '327a407e-f3c7-48df-b85e-018029f81f8a',\n",
       " 92: '9b1e2a59-e4ed-47e9-93fc-fc6da7ef3f51',\n",
       " 93: '3e430d52-2a70-4885-a751-89ee27b0d3c6',\n",
       " 94: 'd8b9caed-5883-4ad6-bf8b-dc7988a5df73',\n",
       " 95: '48829b24-8eca-4a39-b479-48d2c77c8f10',\n",
       " 96: '50142df4-333c-4ad1-82a9-70c600cd7c23',\n",
       " 97: 'c7cc93cc-8d77-4924-8cfc-0a886ddf754b',\n",
       " 98: '5e3a78bf-7a38-46b3-b2df-a1647c911553',\n",
       " 99: 'dd3a10ac-62bf-4dbc-a846-69b1623ebbc4',\n",
       " 100: 'e8f35cc9-3c6a-447b-bf9e-c1d511ee2c5d',\n",
       " 101: '844271c3-a1f9-4c83-af90-43300fc0c3c0',\n",
       " 102: '616d2927-1f4e-4053-b846-69f9b8c088c8',\n",
       " 103: 'd73917b4-94c1-4cc4-bc38-2ba25f8e282e',\n",
       " 104: 'e76e2125-1e7c-45ad-b55b-acecedf7d457',\n",
       " 105: '0aee57b7-1066-4248-9f15-af7a5ef2bc7c',\n",
       " 106: '4cb0800a-3f0b-481c-98aa-4b25f0273620',\n",
       " 107: '3134e483-1804-448d-b117-94a82e748ce2',\n",
       " 108: 'cc17ddaa-9185-400e-b875-71787ce83fb6',\n",
       " 109: '42a7a148-0bcb-4002-a465-23535888c86b',\n",
       " 110: '64fec531-2eca-4141-81ae-6aeac0b8511e',\n",
       " 111: 'a4185e15-32df-4ede-89c7-bcb04066ce52',\n",
       " 112: 'ba9b8246-7b60-4adb-9978-9cbe0ab79710',\n",
       " 113: '3f07095d-378f-4876-995a-d9b18fb4848b',\n",
       " 114: 'ad874216-7c81-4361-bc28-7717e8ba3dd4',\n",
       " 115: 'eeabc9aa-27d6-4c6d-80bd-aa07447a842a',\n",
       " 116: '50ad3b48-97ae-4a7a-b204-93dbed9d5d11',\n",
       " 117: '8bdad330-cad8-4e2f-9704-0763d02abbcd',\n",
       " 118: 'dd39144b-f71a-4ea5-b9e5-5c278d303b33',\n",
       " 119: '709a3515-9f7e-48ae-9a6a-d0bafa40a78d',\n",
       " 120: '0bedd7d2-b69b-4924-acd1-27253638f18f',\n",
       " 121: '344925a2-9278-430f-966e-848ef9062301',\n",
       " 122: '15595460-3988-4804-adef-c95c31bd8b28',\n",
       " 123: '31a0fd6a-b1f1-48a7-837b-4468e15e9ac4',\n",
       " 124: '546303c0-62b2-4d43-81cf-0007805fd299',\n",
       " 125: '54cd3749-4910-4c4b-bcb7-ab9bd156d986',\n",
       " 126: 'cce94c2a-3b41-495c-b192-81a026e899ef',\n",
       " 127: '9d612de7-ae13-404b-81f9-f4c20cda7a33',\n",
       " 128: '9229cf10-4864-4ae5-a2ff-1c5a29d11afb',\n",
       " 129: '618bf901-1cde-4e82-b39f-c50a02c470e7',\n",
       " 130: 'f44f3b4e-8e70-4b63-944e-c4f313148f07',\n",
       " 131: 'b3e4f15d-6947-48da-ac3b-40952b1204e0',\n",
       " 132: '2f27f396-2c3a-4fe7-9bcf-83eb682e05c7',\n",
       " 133: '7288eb7b-a294-42a3-a144-b8f7ad4950f2',\n",
       " 134: 'cbe501c5-993d-46d6-bf9c-bee6aabcbd2a',\n",
       " 135: 'd45d2359-3384-4592-a4a5-5ef856a0ef6b',\n",
       " 136: '530b8b3f-1daf-424d-9e0c-4c3c7fad8ad6',\n",
       " 137: '3fe74ca2-ee5d-4700-aa40-c2455a079339',\n",
       " 138: 'e2937b51-59b1-4a07-afd1-6da877845bf4',\n",
       " 139: 'a600f28a-39a3-4dc2-9331-21e37e07891c',\n",
       " 140: '187102fb-72f2-4afd-bff7-3ec9703d619c',\n",
       " 141: 'f1433b9b-05af-456c-8dab-dd66d5b234a6',\n",
       " 142: '5b50d6e6-ff8b-4556-b619-9e5b0cad88ca',\n",
       " 143: '49958375-ad40-406d-ae8f-6d8fbd9025a2',\n",
       " 144: '1c9edbc8-179f-4e46-9a2a-ee867780dfb3',\n",
       " 145: '0fe6df03-d0c3-4dd5-bc36-bfeb4ac14cc5',\n",
       " 146: 'f01c3598-ac24-4705-a170-60c60258d3c4',\n",
       " 147: 'b54987d1-3bce-41bd-879e-c83364f7496f',\n",
       " 148: 'c5d4ce00-34ef-474f-8e28-d291d4f94179',\n",
       " 149: '5ba22462-5c93-409f-93b3-f734eaeca106',\n",
       " 150: '97e783d7-85c4-4f2c-b163-73a786e8baff',\n",
       " 151: '24a8536a-5088-4874-8776-49d9f0443f3e',\n",
       " 152: '77d76dba-57b2-4cb8-97e1-22a018119aad',\n",
       " 153: '2808537e-1314-4275-996e-395a1ce29683',\n",
       " 154: '0380f038-912b-462f-a6bc-bacb87cb5691',\n",
       " 155: '178f6328-464c-4e01-9e9d-9832786c1ea1',\n",
       " 156: '23637d49-80f9-4327-8f27-95f856882ecb',\n",
       " 157: '7a1e4f9f-2ae1-48cb-9473-2b51e92e62ba',\n",
       " 158: '32c716b4-871a-49e6-af8e-0b801794f4a8',\n",
       " 159: '6f823105-701d-4841-80b6-ecc571a3ce8c',\n",
       " 160: 'f0e0b73f-e9b7-4bda-89e9-443be5ae0ed2',\n",
       " 161: '1c71ada8-92f3-47bf-ac93-3ec4cca34776',\n",
       " 162: '71b87dc3-c08e-412e-9a90-14aed9a665e4',\n",
       " 163: 'bf651cc1-ab5a-4b01-9e31-d9a30ddee552',\n",
       " 164: 'db95fdc2-43f6-48de-b6d7-391905c44956',\n",
       " 165: 'b948059c-1ccb-4c67-b7ff-cb6fe5a9f9d2',\n",
       " 166: '9a01f4da-55c4-47d9-90bc-b51e49d4e9d5',\n",
       " 167: '4db0a17c-af68-4414-9fae-ac9ca741c97b'}"
      ]
     },
     "execution_count": 16,
     "metadata": {},
     "output_type": "execute_result"
    }
   ],
   "source": [
    "vector_store.index_to_docstore_id"
   ]
  },
  {
   "cell_type": "code",
   "execution_count": 18,
   "metadata": {
    "execution": {
     "iopub.execute_input": "2025-08-22T17:16:24.167102Z",
     "iopub.status.busy": "2025-08-22T17:16:24.166234Z",
     "iopub.status.idle": "2025-08-22T17:16:24.172275Z",
     "shell.execute_reply": "2025-08-22T17:16:24.171528Z",
     "shell.execute_reply.started": "2025-08-22T17:16:24.167061Z"
    },
    "trusted": true
   },
   "outputs": [
    {
     "data": {
      "text/plain": [
       "[Document(id='4db0a17c-af68-4414-9fae-ac9ca741c97b', metadata={}, page_content='demas establish to support this podcast please check out our sponsors in the description and now let me leave you with some words from edskar dykstra computer science is no more about computers than astronomy is about telescopes thank you for listening and hope to see you next time')]"
      ]
     },
     "execution_count": 18,
     "metadata": {},
     "output_type": "execute_result"
    }
   ],
   "source": [
    "vector_store.get_by_ids(['4db0a17c-af68-4414-9fae-ac9ca741c97b'])"
   ]
  },
  {
   "cell_type": "markdown",
   "metadata": {},
   "source": [
    "# Step 2 - Retrieval"
   ]
  },
  {
   "cell_type": "code",
   "execution_count": 19,
   "metadata": {
    "execution": {
     "iopub.execute_input": "2025-08-22T17:17:04.906880Z",
     "iopub.status.busy": "2025-08-22T17:17:04.906572Z",
     "iopub.status.idle": "2025-08-22T17:17:04.910602Z",
     "shell.execute_reply": "2025-08-22T17:17:04.909838Z",
     "shell.execute_reply.started": "2025-08-22T17:17:04.906857Z"
    },
    "trusted": true
   },
   "outputs": [],
   "source": [
    "retriever = vector_store.as_retriever(search_type=\"similarity\", search_kwargs={\"k\": 4})"
   ]
  },
  {
   "cell_type": "code",
   "execution_count": 20,
   "metadata": {
    "execution": {
     "iopub.execute_input": "2025-08-22T17:17:10.691892Z",
     "iopub.status.busy": "2025-08-22T17:17:10.691602Z",
     "iopub.status.idle": "2025-08-22T17:17:10.697416Z",
     "shell.execute_reply": "2025-08-22T17:17:10.696621Z",
     "shell.execute_reply.started": "2025-08-22T17:17:10.691872Z"
    },
    "trusted": true
   },
   "outputs": [
    {
     "data": {
      "text/plain": [
       "VectorStoreRetriever(tags=['FAISS', 'AzureOpenAIEmbeddings'], vectorstore=<langchain_community.vectorstores.faiss.FAISS object at 0x7943a1e13490>, search_kwargs={'k': 4})"
      ]
     },
     "execution_count": 20,
     "metadata": {},
     "output_type": "execute_result"
    }
   ],
   "source": [
    "retriever"
   ]
  },
  {
   "cell_type": "code",
   "execution_count": 21,
   "metadata": {
    "execution": {
     "iopub.execute_input": "2025-08-22T17:17:19.111246Z",
     "iopub.status.busy": "2025-08-22T17:17:19.110965Z",
     "iopub.status.idle": "2025-08-22T17:17:19.572759Z",
     "shell.execute_reply": "2025-08-22T17:17:19.572141Z",
     "shell.execute_reply.started": "2025-08-22T17:17:19.111227Z"
    },
    "trusted": true
   },
   "outputs": [
    {
     "data": {
      "text/plain": [
       "[Document(id='2d8ae42c-0f0a-40f1-8019-6273311854d1', metadata={}, page_content=\"the following is a conversation with demus hasabis ceo and co-founder of deepmind a company that has published and builds some of the most incredible artificial intelligence systems in the history of computing including alfred zero that learned all by itself to play the game of gold better than any human in the world and alpha fold two that solved protein folding both tasks considered nearly impossible for a very long time demus is widely considered to be one of the most brilliant and impactful humans in the history of artificial intelligence and science and engineering in general this was truly an honor and a pleasure for me to finally sit down with him for this conversation and i'm sure we will talk many times again in the future this is the lex friedman podcast to support it please check out our sponsors in the description and now dear friends here's demis hassabis let's start with a bit of a personal question am i an ai program you wrote to interview people until i get good enough\"),\n",
       " Document(id='7df455c4-6e9e-4e3b-b299-b5a57c7283a8', metadata={}, page_content='i used to discuss um uh uh what were the sort of founding tenets of deep mind and it was very various things one was um algorithmic advances so deep learning you know jeff hinton and cohen just had just sort of invented that in academia but no one in industry knew about it uh we love reinforcement learning we thought that could be scaled up but also understanding about the human brain had advanced um quite a lot uh in the decade prior with fmri machines and other things so we could get some good hints about architectures and algorithms and and sort of um representations maybe that the brain uses so as at a systems level not at a implementation level um and then the other big things were compute and gpus right so we could see a compute was going to be really useful and it got to a place where it became commoditized mostly through the games industry and and that could be taken advantage of and then the final thing was also mathematical and theoretical definitions of intelligence so'),\n",
       " Document(id='b3ba18fa-043e-4bd3-a0c6-dfc753086b20', metadata={}, page_content=\"ambitious as trying to solve intelligence and you're you're you know it's blue sky research no one knows how to do it you you you need to use any evidence or any source of information you can to help guide you in the right direction or give you confidence you're going in the right direction so so that that was one reason we pushed so hard on that and that's and just going back to your early question about organization the other big thing that i think we innovated with at deepmind to encourage invention and and uh and innovation was the multi-disciplinary organization we built and we still have today so deepmind originally was a confluence of the of the most cutting-edge knowledge in neuroscience with machine learning engineering and mathematics right and and gaming and then since then we built that out even further so we have philosophers here and and uh by you know ethicists but also other types of scientists physicists and so on um and that's what brings together i tried to build a\"),\n",
       " Document(id='3ab960bd-37de-4582-a0aa-2b0677568156', metadata={}, page_content=\"and how it works this is tough to uh ask you this question because you probably will say it's everything but let's let's try let's try to think to this because you're in a very interesting position where deepmind is the place of some of the most uh brilliant ideas in the history of ai but it's also a place of brilliant engineering so how much of solving intelligence this big goal for deepmind how much of it is science how much is engineering so how much is the algorithms how much is the data how much is the hardware compute infrastructure how much is it the software computer infrastructure yeah um what else is there how much is the human infrastructure and like just the humans interact in certain kinds of ways in all the space of all those ideas how much does maybe like philosophy how much what's the key if um uh if if you were to sort of look back like if we go forward 200 years look back what was the key thing that solved intelligence is that ideas i think it's a combination first\")]"
      ]
     },
     "execution_count": 21,
     "metadata": {},
     "output_type": "execute_result"
    }
   ],
   "source": [
    "retriever.invoke('What is deepmind')"
   ]
  },
  {
   "cell_type": "markdown",
   "metadata": {},
   "source": [
    "# Step 3 - Augmentation"
   ]
  },
  {
   "cell_type": "code",
   "execution_count": 40,
   "metadata": {
    "execution": {
     "iopub.execute_input": "2025-08-22T17:24:21.320437Z",
     "iopub.status.busy": "2025-08-22T17:24:21.319823Z",
     "iopub.status.idle": "2025-08-22T17:24:21.443805Z",
     "shell.execute_reply": "2025-08-22T17:24:21.442898Z",
     "shell.execute_reply.started": "2025-08-22T17:24:21.320406Z"
    },
    "trusted": true
   },
   "outputs": [],
   "source": [
    "llm = AzureChatOpenAI(\n",
    "    deployment_name=\"gpt-5-nano\",  \n",
    "    openai_api_version=\"2024-12-01-preview\")"
   ]
  },
  {
   "cell_type": "code",
   "execution_count": 23,
   "metadata": {
    "execution": {
     "iopub.execute_input": "2025-08-22T17:19:18.808205Z",
     "iopub.status.busy": "2025-08-22T17:19:18.807660Z",
     "iopub.status.idle": "2025-08-22T17:19:18.812059Z",
     "shell.execute_reply": "2025-08-22T17:19:18.811198Z",
     "shell.execute_reply.started": "2025-08-22T17:19:18.808184Z"
    },
    "trusted": true
   },
   "outputs": [],
   "source": [
    "prompt = PromptTemplate(\n",
    "    template=\"\"\"\n",
    "      You are a helpful assistant.\n",
    "      Answer ONLY from the provided transcript context.\n",
    "      If the context is insufficient, just say you don't know.\n",
    "\n",
    "      {context}\n",
    "      Question: {question}\n",
    "    \"\"\",\n",
    "    input_variables = ['context', 'question']\n",
    ")"
   ]
  },
  {
   "cell_type": "code",
   "execution_count": 32,
   "metadata": {
    "execution": {
     "iopub.execute_input": "2025-08-22T17:21:20.172199Z",
     "iopub.status.busy": "2025-08-22T17:21:20.171851Z",
     "iopub.status.idle": "2025-08-22T17:21:20.594483Z",
     "shell.execute_reply": "2025-08-22T17:21:20.593643Z",
     "shell.execute_reply.started": "2025-08-22T17:21:20.172174Z"
    },
    "trusted": true
   },
   "outputs": [],
   "source": [
    "question          = \"is the topic of nuclear fusion discussed in this video? if yes then what was discussed\"\n",
    "retrieved_docs    = retriever.invoke(question)"
   ]
  },
  {
   "cell_type": "code",
   "execution_count": 33,
   "metadata": {
    "execution": {
     "iopub.execute_input": "2025-08-22T17:21:20.863892Z",
     "iopub.status.busy": "2025-08-22T17:21:20.863616Z",
     "iopub.status.idle": "2025-08-22T17:21:20.869544Z",
     "shell.execute_reply": "2025-08-22T17:21:20.868820Z",
     "shell.execute_reply.started": "2025-08-22T17:21:20.863872Z"
    },
    "trusted": true
   },
   "outputs": [
    {
     "data": {
      "text/plain": [
       "[Document(id='48829b24-8eca-4a39-b479-48d2c77c8f10', metadata={}, page_content=\"in this case in fusion we we collaborated with epfl in switzerland the swiss technical institute who are amazing they have a test reactor that they were willing to let us use which you know i double checked with the team we were going to use carefully and safely i was impressed they managed to persuade them to let us use it and um and it's a it's an amazing test reactor they have there and they try all sorts of pretty crazy experiments on it and um the the the what we tend to look at is if we go into a new domain like fusion what are all the bottleneck problems uh like thinking from first principles you know what are all the bottleneck problems that are still stopping fusion working today and then we look at we you know we get a fusion expert to tell us and then we look at those bottlenecks and we look at the ones which ones are amenable to our ai methods today yes right and and and then and would be interesting from a research perspective from our point of view from an ai point of\"),\n",
       " Document(id='3e430d52-2a70-4885-a751-89ee27b0d3c6', metadata={}, page_content=\"like room temperature superconductors or something on my list one day i'd like to like you know have an ai system to help build better optimized batteries all of these sort of mechanical things mr i think a systematic sort of search could be uh guided by a model could be um could be extremely powerful so speaking of which you have a paper on nuclear fusion uh magnetic control of tokamak plasmas to deep reinforcement learning so you uh you're seeking to solve nuclear fusion with deep rl so it's doing control of high temperature plasmas can you explain this work and uh can ai eventually solve nuclear fusion it's been very fun last year or two and very productive because we've been taking off a lot of my dream projects if you like of things that i've collected over the years of areas of science that i would like to i think could be very transformative if we helped accelerate and uh really interesting problems scientific challenges in of themselves this is energy so energy yes exactly so\"),\n",
       " Document(id='5e3a78bf-7a38-46b3-b2df-a1647c911553', metadata={}, page_content=\"so we with this problem and we published it in a nature paper last year uh we held the fusion that we held the plasma in specific shapes so actually it's almost like carving the plasma into different shapes and control and hold it there for the record amount of time so um so that's one of the problems of of fusion sort of um solved so i have a controller that's able to no matter the shape uh contain it continue yeah contain it and hold it in structure and there's different shapes that are better for for the energy productions called droplets and and and so on so um so that was huge and now we're looking we're talking to lots of fusion startups to see what's the next problem we can tackle uh in the fusion area so another fascinating place in a paper title pushing the frontiers of density functionals by solving the fractional electron problem so you're taking on modeling and simulating the quantum mechanical behavior of electrons yes um can you explain this work and can ai model and\"),\n",
       " Document(id='d8b9caed-5883-4ad6-bf8b-dc7988a5df73', metadata={}, page_content='that i would like to i think could be very transformative if we helped accelerate and uh really interesting problems scientific challenges in of themselves this is energy so energy yes exactly so energy and climate so we talked about disease and biology as being one of the biggest places i think ai can help with i think energy and climate uh is another one so maybe they would be my top two um and fusion is one one area i think ai can help with now fusion has many challenges mostly physics material science and engineering challenges as well to build these massive fusion reactors and contain the plasma and what we try to do whenever we go into a new field to apply our systems is we look for um we talk to domain experts we try and find the best people in the world to collaborate with um in this case in fusion we we collaborated with epfl in switzerland the swiss technical institute who are amazing they have a test reactor that they were willing to let us use which you know i double')]"
      ]
     },
     "execution_count": 33,
     "metadata": {},
     "output_type": "execute_result"
    }
   ],
   "source": [
    "retrieved_docs"
   ]
  },
  {
   "cell_type": "code",
   "execution_count": 36,
   "metadata": {
    "execution": {
     "iopub.execute_input": "2025-08-22T17:22:48.522548Z",
     "iopub.status.busy": "2025-08-22T17:22:48.522245Z",
     "iopub.status.idle": "2025-08-22T17:22:48.528755Z",
     "shell.execute_reply": "2025-08-22T17:22:48.527814Z",
     "shell.execute_reply.started": "2025-08-22T17:22:48.522527Z"
    },
    "trusted": true
   },
   "outputs": [
    {
     "data": {
      "text/plain": [
       "\"in this case in fusion we we collaborated with epfl in switzerland the swiss technical institute who are amazing they have a test reactor that they were willing to let us use which you know i double checked with the team we were going to use carefully and safely i was impressed they managed to persuade them to let us use it and um and it's a it's an amazing test reactor they have there and they try all sorts of pretty crazy experiments on it and um the the the what we tend to look at is if we go into a new domain like fusion what are all the bottleneck problems uh like thinking from first principles you know what are all the bottleneck problems that are still stopping fusion working today and then we look at we you know we get a fusion expert to tell us and then we look at those bottlenecks and we look at the ones which ones are amenable to our ai methods today yes right and and and then and would be interesting from a research perspective from our point of view from an ai point of\\n\\nlike room temperature superconductors or something on my list one day i'd like to like you know have an ai system to help build better optimized batteries all of these sort of mechanical things mr i think a systematic sort of search could be uh guided by a model could be um could be extremely powerful so speaking of which you have a paper on nuclear fusion uh magnetic control of tokamak plasmas to deep reinforcement learning so you uh you're seeking to solve nuclear fusion with deep rl so it's doing control of high temperature plasmas can you explain this work and uh can ai eventually solve nuclear fusion it's been very fun last year or two and very productive because we've been taking off a lot of my dream projects if you like of things that i've collected over the years of areas of science that i would like to i think could be very transformative if we helped accelerate and uh really interesting problems scientific challenges in of themselves this is energy so energy yes exactly so\\n\\nso we with this problem and we published it in a nature paper last year uh we held the fusion that we held the plasma in specific shapes so actually it's almost like carving the plasma into different shapes and control and hold it there for the record amount of time so um so that's one of the problems of of fusion sort of um solved so i have a controller that's able to no matter the shape uh contain it continue yeah contain it and hold it in structure and there's different shapes that are better for for the energy productions called droplets and and and so on so um so that was huge and now we're looking we're talking to lots of fusion startups to see what's the next problem we can tackle uh in the fusion area so another fascinating place in a paper title pushing the frontiers of density functionals by solving the fractional electron problem so you're taking on modeling and simulating the quantum mechanical behavior of electrons yes um can you explain this work and can ai model and\\n\\nthat i would like to i think could be very transformative if we helped accelerate and uh really interesting problems scientific challenges in of themselves this is energy so energy yes exactly so energy and climate so we talked about disease and biology as being one of the biggest places i think ai can help with i think energy and climate uh is another one so maybe they would be my top two um and fusion is one one area i think ai can help with now fusion has many challenges mostly physics material science and engineering challenges as well to build these massive fusion reactors and contain the plasma and what we try to do whenever we go into a new field to apply our systems is we look for um we talk to domain experts we try and find the best people in the world to collaborate with um in this case in fusion we we collaborated with epfl in switzerland the swiss technical institute who are amazing they have a test reactor that they were willing to let us use which you know i double\""
      ]
     },
     "execution_count": 36,
     "metadata": {},
     "output_type": "execute_result"
    }
   ],
   "source": [
    "context_text = \"\\n\\n\".join(doc.page_content for doc in retrieved_docs)\n",
    "context_text"
   ]
  },
  {
   "cell_type": "code",
   "execution_count": 37,
   "metadata": {
    "execution": {
     "iopub.execute_input": "2025-08-22T17:22:51.599310Z",
     "iopub.status.busy": "2025-08-22T17:22:51.598738Z",
     "iopub.status.idle": "2025-08-22T17:22:51.603750Z",
     "shell.execute_reply": "2025-08-22T17:22:51.603025Z",
     "shell.execute_reply.started": "2025-08-22T17:22:51.599288Z"
    },
    "trusted": true
   },
   "outputs": [],
   "source": [
    "final_prompt = prompt.invoke({\"context\": context_text, \"question\": question})"
   ]
  },
  {
   "cell_type": "code",
   "execution_count": 38,
   "metadata": {
    "execution": {
     "iopub.execute_input": "2025-08-22T17:23:01.320289Z",
     "iopub.status.busy": "2025-08-22T17:23:01.320018Z",
     "iopub.status.idle": "2025-08-22T17:23:01.326709Z",
     "shell.execute_reply": "2025-08-22T17:23:01.325727Z",
     "shell.execute_reply.started": "2025-08-22T17:23:01.320271Z"
    },
    "trusted": true
   },
   "outputs": [
    {
     "data": {
      "text/plain": [
       "StringPromptValue(text=\"\\n      You are a helpful assistant.\\n      Answer ONLY from the provided transcript context.\\n      If the context is insufficient, just say you don't know.\\n\\n      in this case in fusion we we collaborated with epfl in switzerland the swiss technical institute who are amazing they have a test reactor that they were willing to let us use which you know i double checked with the team we were going to use carefully and safely i was impressed they managed to persuade them to let us use it and um and it's a it's an amazing test reactor they have there and they try all sorts of pretty crazy experiments on it and um the the the what we tend to look at is if we go into a new domain like fusion what are all the bottleneck problems uh like thinking from first principles you know what are all the bottleneck problems that are still stopping fusion working today and then we look at we you know we get a fusion expert to tell us and then we look at those bottlenecks and we look at the ones which ones are amenable to our ai methods today yes right and and and then and would be interesting from a research perspective from our point of view from an ai point of\\n\\nlike room temperature superconductors or something on my list one day i'd like to like you know have an ai system to help build better optimized batteries all of these sort of mechanical things mr i think a systematic sort of search could be uh guided by a model could be um could be extremely powerful so speaking of which you have a paper on nuclear fusion uh magnetic control of tokamak plasmas to deep reinforcement learning so you uh you're seeking to solve nuclear fusion with deep rl so it's doing control of high temperature plasmas can you explain this work and uh can ai eventually solve nuclear fusion it's been very fun last year or two and very productive because we've been taking off a lot of my dream projects if you like of things that i've collected over the years of areas of science that i would like to i think could be very transformative if we helped accelerate and uh really interesting problems scientific challenges in of themselves this is energy so energy yes exactly so\\n\\nso we with this problem and we published it in a nature paper last year uh we held the fusion that we held the plasma in specific shapes so actually it's almost like carving the plasma into different shapes and control and hold it there for the record amount of time so um so that's one of the problems of of fusion sort of um solved so i have a controller that's able to no matter the shape uh contain it continue yeah contain it and hold it in structure and there's different shapes that are better for for the energy productions called droplets and and and so on so um so that was huge and now we're looking we're talking to lots of fusion startups to see what's the next problem we can tackle uh in the fusion area so another fascinating place in a paper title pushing the frontiers of density functionals by solving the fractional electron problem so you're taking on modeling and simulating the quantum mechanical behavior of electrons yes um can you explain this work and can ai model and\\n\\nthat i would like to i think could be very transformative if we helped accelerate and uh really interesting problems scientific challenges in of themselves this is energy so energy yes exactly so energy and climate so we talked about disease and biology as being one of the biggest places i think ai can help with i think energy and climate uh is another one so maybe they would be my top two um and fusion is one one area i think ai can help with now fusion has many challenges mostly physics material science and engineering challenges as well to build these massive fusion reactors and contain the plasma and what we try to do whenever we go into a new field to apply our systems is we look for um we talk to domain experts we try and find the best people in the world to collaborate with um in this case in fusion we we collaborated with epfl in switzerland the swiss technical institute who are amazing they have a test reactor that they were willing to let us use which you know i double\\n      Question: is the topic of nuclear fusion discussed in this video? if yes then what was discussed\\n    \")"
      ]
     },
     "execution_count": 38,
     "metadata": {},
     "output_type": "execute_result"
    }
   ],
   "source": [
    "final_prompt"
   ]
  },
  {
   "cell_type": "markdown",
   "metadata": {},
   "source": [
    "# Step 4 - Generation"
   ]
  },
  {
   "cell_type": "code",
   "execution_count": 41,
   "metadata": {
    "execution": {
     "iopub.execute_input": "2025-08-22T17:24:26.462202Z",
     "iopub.status.busy": "2025-08-22T17:24:26.461164Z",
     "iopub.status.idle": "2025-08-22T17:24:35.412813Z",
     "shell.execute_reply": "2025-08-22T17:24:35.412004Z",
     "shell.execute_reply.started": "2025-08-22T17:24:26.462161Z"
    },
    "trusted": true
   },
   "outputs": [
    {
     "name": "stdout",
     "output_type": "stream",
     "text": [
      "Yes. The video discusses nuclear fusion and includes:\n",
      "\n",
      "- Collaboration with EPFL (the Swiss Federal Institute of Technology) in Switzerland and access to their test reactor.\n",
      "- The approach of identifying bottleneck problems in fusion from first principles and determining which could be tackled with AI.\n",
      "- A Nature paper on using deep reinforcement learning to magnetic-control tokamak plasmas, showing the plasma can be carved into specific shapes and held there for a record amount of time; shapes mentioned include droplets and others.\n",
      "- Plans to work with fusion startups to tackle the next problems in fusion.\n",
      "- Related AI/physics work, such as pushing the frontiers of density functionals by solving the fractional electron problem.\n",
      "- The view that energy and climate are major domains for AI’s impact, with fusion as a key area.\n"
     ]
    }
   ],
   "source": [
    "answer = llm.invoke(final_prompt)\n",
    "print(answer.content)"
   ]
  },
  {
   "cell_type": "markdown",
   "metadata": {},
   "source": [
    "# Building a Chain"
   ]
  },
  {
   "cell_type": "code",
   "execution_count": 42,
   "metadata": {
    "execution": {
     "iopub.execute_input": "2025-08-22T17:25:42.643056Z",
     "iopub.status.busy": "2025-08-22T17:25:42.642508Z",
     "iopub.status.idle": "2025-08-22T17:25:42.649004Z",
     "shell.execute_reply": "2025-08-22T17:25:42.648394Z",
     "shell.execute_reply.started": "2025-08-22T17:25:42.643029Z"
    },
    "trusted": true
   },
   "outputs": [],
   "source": [
    "from langchain_core.runnables import RunnableParallel, RunnablePassthrough, RunnableLambda\n",
    "from langchain_core.output_parsers import StrOutputParser"
   ]
  },
  {
   "cell_type": "code",
   "execution_count": 43,
   "metadata": {
    "execution": {
     "iopub.execute_input": "2025-08-22T17:27:17.281350Z",
     "iopub.status.busy": "2025-08-22T17:27:17.281077Z",
     "iopub.status.idle": "2025-08-22T17:27:17.285726Z",
     "shell.execute_reply": "2025-08-22T17:27:17.284919Z",
     "shell.execute_reply.started": "2025-08-22T17:27:17.281332Z"
    },
    "trusted": true
   },
   "outputs": [],
   "source": [
    "def format_docs(retrieved_docs):\n",
    "  context_text = \"\\n\\n\".join(doc.page_content for doc in retrieved_docs)\n",
    "  return context_text"
   ]
  },
  {
   "cell_type": "code",
   "execution_count": 44,
   "metadata": {
    "execution": {
     "iopub.execute_input": "2025-08-22T17:29:16.001539Z",
     "iopub.status.busy": "2025-08-22T17:29:16.001237Z",
     "iopub.status.idle": "2025-08-22T17:29:16.006133Z",
     "shell.execute_reply": "2025-08-22T17:29:16.005116Z",
     "shell.execute_reply.started": "2025-08-22T17:29:16.001520Z"
    },
    "trusted": true
   },
   "outputs": [],
   "source": [
    "parallel_chain = RunnableParallel({\n",
    "    'context': retriever | RunnableLambda(format_docs),\n",
    "    'question': RunnablePassthrough()\n",
    "})"
   ]
  },
  {
   "cell_type": "code",
   "execution_count": 45,
   "metadata": {
    "execution": {
     "iopub.execute_input": "2025-08-22T17:29:23.488228Z",
     "iopub.status.busy": "2025-08-22T17:29:23.487978Z",
     "iopub.status.idle": "2025-08-22T17:29:23.926051Z",
     "shell.execute_reply": "2025-08-22T17:29:23.925247Z",
     "shell.execute_reply.started": "2025-08-22T17:29:23.488211Z"
    },
    "trusted": true
   },
   "outputs": [
    {
     "data": {
      "text/plain": [
       "{'context': \"the following is a conversation with demus hasabis ceo and co-founder of deepmind a company that has published and builds some of the most incredible artificial intelligence systems in the history of computing including alfred zero that learned all by itself to play the game of gold better than any human in the world and alpha fold two that solved protein folding both tasks considered nearly impossible for a very long time demus is widely considered to be one of the most brilliant and impactful humans in the history of artificial intelligence and science and engineering in general this was truly an honor and a pleasure for me to finally sit down with him for this conversation and i'm sure we will talk many times again in the future this is the lex friedman podcast to support it please check out our sponsors in the description and now dear friends here's demis hassabis let's start with a bit of a personal question am i an ai program you wrote to interview people until i get good enough\\n\\ndemas establish to support this podcast please check out our sponsors in the description and now let me leave you with some words from edskar dykstra computer science is no more about computers than astronomy is about telescopes thank you for listening and hope to see you next time\\n\\nout our sponsors in the description and now dear friends here's demis hassabis let's start with a bit of a personal question am i an ai program you wrote to interview people until i get good enough to interview you well i'll be impressed if if you were i'd be impressed by myself if you were i don't think we're quite up to that yet but uh maybe you're from the future lex if you did would you tell me is that is that a good thing to tell a language model that's tasked with interviewing that it is in fact um ai maybe we're in a kind of meta turing test uh probably probably it would be a good idea not to tell you so it doesn't change your behavior right this is a kind of heisenberg uncertainty principle situation if i told you you behave differently yeah maybe that's what's happening with us of course this is a benchmark from the future where they replay 2022 as a year before ais were good enough yet and now we want to see is it going to pass exactly if i was such a program would you be\\n\\ndeeper maybe simpler explanation yes of things right than the standard model of physics which we know doesn't work but we still keep adding to so um and and that's how i think the beginning of an explanation would look and it would start encompassing many of the mysteries that we have wondered about for thousands of years like you know consciousness uh life and gravity all of these things yeah giving us a glimpses of explanations for those things yeah well um damas dear one of the special human beings in this giant puzzle of ours and it's a huge honor that you would take a pause from the bigger puzzle to solve this small puzzle of a conversation with me today it's truly an honor and a pleasure thank you thank you i really enjoyed it thanks lex thanks for listening to this conversation with demas establish to support this podcast please check out our sponsors in the description and now let me leave you with some words from edskar dykstra computer science is no more about computers than\",\n",
       " 'question': 'who is Demis'}"
      ]
     },
     "execution_count": 45,
     "metadata": {},
     "output_type": "execute_result"
    }
   ],
   "source": [
    "parallel_chain.invoke('who is Demis')"
   ]
  },
  {
   "cell_type": "code",
   "execution_count": 46,
   "metadata": {
    "execution": {
     "iopub.execute_input": "2025-08-22T17:29:52.636082Z",
     "iopub.status.busy": "2025-08-22T17:29:52.635819Z",
     "iopub.status.idle": "2025-08-22T17:29:52.639912Z",
     "shell.execute_reply": "2025-08-22T17:29:52.639138Z",
     "shell.execute_reply.started": "2025-08-22T17:29:52.636059Z"
    },
    "trusted": true
   },
   "outputs": [],
   "source": [
    "parser = StrOutputParser()"
   ]
  },
  {
   "cell_type": "code",
   "execution_count": 47,
   "metadata": {
    "execution": {
     "iopub.execute_input": "2025-08-22T17:30:00.330933Z",
     "iopub.status.busy": "2025-08-22T17:30:00.330667Z",
     "iopub.status.idle": "2025-08-22T17:30:00.334729Z",
     "shell.execute_reply": "2025-08-22T17:30:00.334008Z",
     "shell.execute_reply.started": "2025-08-22T17:30:00.330915Z"
    },
    "trusted": true
   },
   "outputs": [],
   "source": [
    "main_chain = parallel_chain | prompt | llm | parser"
   ]
  },
  {
   "cell_type": "code",
   "execution_count": 48,
   "metadata": {
    "execution": {
     "iopub.execute_input": "2025-08-22T17:30:05.901792Z",
     "iopub.status.busy": "2025-08-22T17:30:05.901506Z",
     "iopub.status.idle": "2025-08-22T17:30:13.425923Z",
     "shell.execute_reply": "2025-08-22T17:30:13.424986Z",
     "shell.execute_reply.started": "2025-08-22T17:30:05.901772Z"
    },
    "trusted": true
   },
   "outputs": [
    {
     "data": {
      "text/plain": [
       "'- The video is a Lex Fridman Podcast episode featuring a conversation with Demis Hassabis, CEO and co-founder of DeepMind.\\n- They discuss DeepMind’s groundbreaking AI work (mentioning AlphaGo Zero and AlphaFold 2) and Hassabis’s views on intelligence and problem-solving.\\n- A core theme is the idea that true understanding may come from simple, clear explanations; they reference this as a sign of intelligence, linking it to Richard Feynman.\\n- They talk about gaps in current physics (like the standard model) and how better explanations could help illuminate big mysteries such as consciousness, life, and gravity.\\n- The conversation touches on the relationship between humans and computation, including a potential symbiosis with devices and AI.\\n- There are reflections on what makes something truly intelligent—namely, the ability to explain it simply.\\n- The episode includes sponsor messages and ends with a nod to Edsger Dijkstra’s quote about computer science not being about computers.'"
      ]
     },
     "execution_count": 48,
     "metadata": {},
     "output_type": "execute_result"
    }
   ],
   "source": [
    "main_chain.invoke('Can you summarize the video')"
   ]
  },
  {
   "cell_type": "code",
   "execution_count": null,
   "metadata": {
    "trusted": true
   },
   "outputs": [],
   "source": []
  }
 ],
 "metadata": {
  "kaggle": {
   "accelerator": "none",
   "dataSources": [],
   "dockerImageVersionId": 31089,
   "isGpuEnabled": false,
   "isInternetEnabled": true,
   "language": "python",
   "sourceType": "notebook"
  },
  "kernelspec": {
   "display_name": "Python 3",
   "language": "python",
   "name": "python3"
  },
  "language_info": {
   "codemirror_mode": {
    "name": "ipython",
    "version": 3
   },
   "file_extension": ".py",
   "mimetype": "text/x-python",
   "name": "python",
   "nbconvert_exporter": "python",
   "pygments_lexer": "ipython3",
   "version": "3.11.13"
  }
 },
 "nbformat": 4,
 "nbformat_minor": 4
}
